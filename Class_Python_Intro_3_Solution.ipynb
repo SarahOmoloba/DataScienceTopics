{
 "cells": [
  {
   "cell_type": "markdown",
   "id": "9feaa198",
   "metadata": {},
   "source": [
    "## <span style=\"color:darkolivegreen\">Conditional Statement and Loops</span>\n",
    "\n",
    "1. **[if statement](#if_statement)**\n",
    "2. **[if else statement](#if_else)**\n",
    "3. **[if elif else](#if_elif_else)**\n",
    "4. **[for loop](#forloop)**\n",
    "5. **[while loop](#whileloop)**\n",
    "6. **[break statement](#breakstatement)**\n",
    "7. **[continue statement](#continuestatement)**"
   ]
  },
  {
   "cell_type": "markdown",
   "id": "cbc30a5a",
   "metadata": {},
   "source": [
    "<a id=\"if_statement\"> </a>\n",
    "## 1. if statement\n",
    "\n",
    "An if statement is used to test a condition for truth and execute the code if it is True\n"
   ]
  },
  {
   "cell_type": "markdown",
   "id": "cae48a86",
   "metadata": {},
   "source": [
    "**syntax:**<br><br>\n",
    "if EXPRESSION:<br>\n",
    "&nbsp;&nbsp;    STATEMENTS\n",
    "\n",
    "Use colon `:` and `indentation` correctly"
   ]
  },
  {
   "cell_type": "markdown",
   "id": "3a835d8a",
   "metadata": {},
   "source": [
    "####  Now, we will see some examples on if statements"
   ]
  },
  {
   "cell_type": "code",
   "execution_count": 1,
   "id": "d292e835",
   "metadata": {},
   "outputs": [
    {
     "name": "stdout",
     "output_type": "stream",
     "text": [
      "True\n"
     ]
    }
   ],
   "source": [
    "# create a list and check for the element in the list\n",
    "\n",
    "my_list = ['Data Science','Python','Java']\n",
    "\n",
    "if 'Python' in my_list:\n",
    "    print('True')"
   ]
  },
  {
   "cell_type": "code",
   "execution_count": 2,
   "id": "aa7e1688",
   "metadata": {},
   "outputs": [
    {
     "name": "stdout",
     "output_type": "stream",
     "text": [
      "15\n"
     ]
    }
   ],
   "source": [
    "a = 10\n",
    "b = 5\n",
    "\n",
    "if a+b > 10:\n",
    "    print(a+b)"
   ]
  },
  {
   "cell_type": "markdown",
   "id": "65327fc6",
   "metadata": {},
   "source": [
    "<a id=\"if_else\"> </a>\n",
    "## 2. else statement\n",
    "\n",
    "An `else` clause can be optionally added to an `if` statement.\n",
    "\n",
    "If the condition evaluates to True, code in the if part is executed.<br>\n",
    "If the condition evaluates to False, code in the else part is executed.\n"
   ]
  },
  {
   "cell_type": "markdown",
   "id": "9289c561",
   "metadata": {},
   "source": [
    "**Syntax of if...else**<br><br>\n",
    "if EXPRESSION:<br>\n",
    "&nbsp;&nbsp;    STATEMENT_1<br>\n",
    "else:<br>\n",
    "&nbsp;&nbsp;    STATEMENT_2\n",
    "\n",
    "\n",
    "The `else` keyword catches anything which isn't caught by the preceeding conditions."
   ]
  },
  {
   "cell_type": "code",
   "execution_count": 3,
   "id": "545413ca",
   "metadata": {},
   "outputs": [
    {
     "ename": "SyntaxError",
     "evalue": "invalid syntax (4257042744.py, line 7)",
     "output_type": "error",
     "traceback": [
      "\u001b[1;36m  File \u001b[1;32m\"C:\\Users\\sarah\\AppData\\Local\\Temp\\ipykernel_20128\\4257042744.py\"\u001b[1;36m, line \u001b[1;32m7\u001b[0m\n\u001b[1;33m    elif:\u001b[0m\n\u001b[1;37m        ^\u001b[0m\n\u001b[1;31mSyntaxError\u001b[0m\u001b[1;31m:\u001b[0m invalid syntax\n"
     ]
    }
   ],
   "source": [
    "# 2 conditions - Check if a number is greater than 50 or less than 50\n",
    "# or write a username password program\n",
    "a = 80\n",
    "\n",
    "if a < 50:\n",
    "    print('Number is less than 50')\n",
    "elif:\n",
    "    print('Number is greater than 50')\n",
    "else:\n",
    "    return"
   ]
  },
  {
   "cell_type": "markdown",
   "id": "cf7c8dee",
   "metadata": {},
   "source": [
    "<a id=\"if_elif_else\"> </a>\n",
    "## 3. if elif else\n"
   ]
  },
  {
   "cell_type": "markdown",
   "id": "656b00ea",
   "metadata": {},
   "source": [
    "**Syntax of if elif else:**<br><br>\n",
    "if expression 1:<br>\n",
    "&nbsp;&nbsp;    STATEMENTS_A<br>\n",
    "elif expression 2:<br>\n",
    "&nbsp;&nbsp;   STATEMENTS_B<br>\n",
    "else:<br>\n",
    "&nbsp;&nbsp;    STATEMENTS_C"
   ]
  },
  {
   "cell_type": "code",
   "execution_count": null,
   "id": "b2faa37d",
   "metadata": {},
   "outputs": [],
   "source": [
    "# 3 or more conditions - Check whether the given number equals 0, greater than 50 or less than 50. \n",
    "num = 0\n",
    "\n",
    "if (num == 0):\n",
    "    print('num equal to 0')\n",
    "elif (num > 50):\n",
    "    print('num greater than 50')\n",
    "else:\n",
    "    print('num is less than 50')"
   ]
  },
  {
   "cell_type": "markdown",
   "id": "f9ff0b45",
   "metadata": {},
   "source": [
    "<a id=\"forloop\"> </a>\n",
    "## 4. for loop\n"
   ]
  },
  {
   "cell_type": "markdown",
   "id": "35a241b2",
   "metadata": {},
   "source": [
    "**Syntax of for loop:**<br><br>\n",
    "for val in sequence:<br>\n",
    "&nbsp;&nbsp;\tBody of for <br><br>\n",
    "\n",
    "\n",
    "\n",
    "A `for` loop is used for iterating over a sequence (that is either a list, a tuple, a dictionary, a set)."
   ]
  },
  {
   "cell_type": "code",
   "execution_count": null,
   "id": "24f1c269",
   "metadata": {
    "scrolled": true
   },
   "outputs": [],
   "source": [
    "# create a list of numbers, using for loop, square each number\n",
    "\n",
    "numbers = [1,2,3,4,5,6,7,8]\n",
    "\n",
    "# iterate over each element of the list\n",
    "\n",
    "for val in numbers:\n",
    "    print(val**2)"
   ]
  },
  {
   "cell_type": "markdown",
   "id": "9a5fcbfa",
   "metadata": {},
   "source": [
    "<a id=\"whileloop\"> </a>\n",
    "## 5. while loop"
   ]
  },
  {
   "cell_type": "markdown",
   "id": "d887758c",
   "metadata": {},
   "source": [
    "**Syntax of for loop:**<br><br>\n",
    "while (expression):<br>\n",
    "&nbsp;&nbsp;     statement_1<br>\n",
    "&nbsp;&nbsp;     statement_2<br>\n",
    "    .... \n",
    "<br><br>\n",
    "With the `while` loop we can execute a set of statements as long as a condition is true."
   ]
  },
  {
   "cell_type": "code",
   "execution_count": null,
   "id": "2b1b0ca2",
   "metadata": {},
   "outputs": [],
   "source": [
    "# print the first 5 digits\n",
    "\n",
    "i = 1\n",
    "while i<6:\n",
    "    num.append(i)\n",
    "    print(i,end=\"\")\n",
    "    i = i+1"
   ]
  },
  {
   "cell_type": "code",
   "execution_count": null,
   "id": "92000543",
   "metadata": {},
   "outputs": [],
   "source": [
    "num = []\n",
    "i = 1\n",
    "while i<6:\n",
    "    if i%2==0:\n",
    "        num.append(i)\n",
    "    i = i+1\n",
    "print(num)"
   ]
  },
  {
   "cell_type": "markdown",
   "id": "5c3557f3",
   "metadata": {},
   "source": [
    "<a id=\"breakstatement\"> </a>\n",
    "## 6. break statement\n",
    "\n",
    "\n",
    "<br>The `break` keyword is used to break out of a loop completely."
   ]
  },
  {
   "cell_type": "code",
   "execution_count": null,
   "id": "908ad3a8",
   "metadata": {},
   "outputs": [],
   "source": [
    "# create a list of numbers, and if number is 4; break out\n",
    "\n",
    "numbers = [1,2,3,4,5,6,7,8]\n",
    "\n",
    "# iterate over each element of the list\n",
    "\n",
    "for val in numbers:\n",
    "    if val == 4:\n",
    "        break\n",
    "    print(val**2)"
   ]
  },
  {
   "cell_type": "markdown",
   "id": "8056faff",
   "metadata": {},
   "source": [
    "### <a id=\"continuestatement\"> </a>\n",
    "## 7. continue statement\n",
    "\n",
    "\n",
    "The `continue` keyword is used to end the current iteration in a loop, and continue to the next iteration."
   ]
  },
  {
   "cell_type": "code",
   "execution_count": null,
   "id": "e316dc99",
   "metadata": {},
   "outputs": [],
   "source": [
    "# create a list of numbers, and if numebr is 4; continue to next iteration\n",
    "numbers = [1,2,3,4,5,6,7,8]\n",
    "\n",
    "# iterate over each element of the list\n",
    "\n",
    "for val in numbers:\n",
    "    if val == 4:\n",
    "        continue\n",
    "    print(val**2)"
   ]
  },
  {
   "cell_type": "markdown",
   "id": "6568933b",
   "metadata": {},
   "source": [
    "Break and continue are hard conditions used in side a loop to handle exceptions."
   ]
  },
  {
   "cell_type": "markdown",
   "id": "5593e8d7",
   "metadata": {},
   "source": [
    "**Try it yourself!**\n",
    "\n",
    "* Nested loops"
   ]
  }
 ],
 "metadata": {
  "kernelspec": {
   "display_name": "Python 3 (ipykernel)",
   "language": "python",
   "name": "python3"
  },
  "language_info": {
   "codemirror_mode": {
    "name": "ipython",
    "version": 3
   },
   "file_extension": ".py",
   "mimetype": "text/x-python",
   "name": "python",
   "nbconvert_exporter": "python",
   "pygments_lexer": "ipython3",
   "version": "3.9.13"
  }
 },
 "nbformat": 4,
 "nbformat_minor": 5
}
